{
 "cells": [
  {
   "cell_type": "code",
   "execution_count": 10,
   "metadata": {},
   "outputs": [
    {
     "name": "stdout",
     "output_type": "stream",
     "text": [
      "En : 68532070\n",
      "Es : 20755900\n",
      "Ar : 7957489\n",
      "Fr : 4900973\n",
      "It : 2684198\n",
      "All: 104830630\n"
     ]
    }
   ],
   "source": [
    "import os\n",
    "static_dict = {}\n",
    "lan_list = ['En', 'Es', 'Ar', 'Fr', 'It']\n",
    "stat_str = ''\n",
    "all_total = 0\n",
    "for lan in lan_list:\n",
    "    lan_total = 0\n",
    "    file = lan+'/'+lan+'_count.txt'\n",
    "    with open(file, 'r') as f:\n",
    "        data = f.readlines()\n",
    "        for d in data:\n",
    "            count = d.split(' ')[1]\n",
    "            lan_total += int(count)\n",
    "    all_total += lan_total\n",
    "    static_dict[lan] = lan_total\n",
    "    print(lan, ':', lan_total)\n",
    "print('All:', all_total)\n",
    "\n",
    "for lan in static_dict.keys():\n",
    "    count = static_dict.get(lan)\n",
    "    rate = count/all_total*1.0\n",
    "    stat_str += lan+' '+str(count)+' '+str(rate)+'\\n'\n",
    "    \n",
    "    \n",
    "st\n",
    "with open()"
   ]
  },
  {
   "cell_type": "code",
   "execution_count": null,
   "metadata": {},
   "outputs": [],
   "source": []
  },
  {
   "cell_type": "code",
   "execution_count": null,
   "metadata": {},
   "outputs": [],
   "source": []
  }
 ],
 "metadata": {
  "kernelspec": {
   "display_name": "Python 3",
   "language": "python",
   "name": "python3"
  },
  "language_info": {
   "codemirror_mode": {
    "name": "ipython",
    "version": 3
   },
   "file_extension": ".py",
   "mimetype": "text/x-python",
   "name": "python",
   "nbconvert_exporter": "python",
   "pygments_lexer": "ipython3",
   "version": "3.8.1"
  }
 },
 "nbformat": 4,
 "nbformat_minor": 4
}
